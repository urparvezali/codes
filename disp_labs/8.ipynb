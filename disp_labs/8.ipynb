{
 "cells": [
  {
   "cell_type": "markdown",
   "id": "c31cadd3",
   "metadata": {},
   "source": [
    "### Character Segmentation\n",
    "#### Theory\n",
    "\n",
    "In this lab, we focus on character segmentation, a crucial step in Optical Character Recognition (OCR) systems. The process involves isolating individual characters from an image, enabling further analysis such as character recognition. The key steps include:\n",
    "\n",
    "1. **Preprocessing the Image**: Converting the input image to grayscale and applying adaptive thresholding to create a binary image. This step enhances the contrast between the foreground (characters) and the background.\n",
    "\n",
    "2. **Extracting Characters**: Using contour detection to identify regions of interest (ROIs) corresponding to individual characters. Bounding boxes are computed to isolate these regions.\n",
    "\n",
    "3. **Visualization**: Displaying the original image alongside the segmented characters with bounding boxes to verify the accuracy of the segmentation process.\n",
    "\n",
    "**Objectives**:\n",
    "- Understand the preprocessing techniques required for character segmentation.\n",
    "- Implement contour-based methods to extract individual characters.\n",
    "- Visualize and validate the segmentation results."
   ]
  },
  {
   "cell_type": "code",
   "execution_count": 4,
   "id": "90d6d2fd",
   "metadata": {},
   "outputs": [],
   "source": [
    "import cv2\n",
    "import numpy as np\n",
    "import matplotlib.pyplot as plt"
   ]
  },
  {
   "cell_type": "code",
   "execution_count": null,
   "id": "3028e8d7",
   "metadata": {},
   "outputs": [],
   "source": [
    "def preprocess_image(image_path):\n",
    "\timg = cv2.imread(image_path, cv2.IMREAD_GRAYSCALE)\n",
    "\tgray = cv2.cvtColor(img, cv2.COLOR_BGR2GRAY)\n",
    "\t\n",
    "\tbinary = cv2.adaptiveThreshold(\n",
    "\t\tgray, 255, cv2.ADAPTIVE_THRESH_GAUSSIAN_C, cv2.THRESH_BINARY_INV, 15, 10\n",
    "\t)\n",
    "\tkernel = np.ones((3, 3), np.uint8)\n",
    "\tbinary = cv2.morphologyEx(binary, cv2.MORPH_CLOSE, kernel)\n",
    "\treturn img, gray, binary\n",
    "\n",
    "\n",
    "def extract_characters(binary_image, min_area=100):\n",
    "\tcontours, _ = cv2.findContours(\n",
    "\t\tbinary_image, cv2.RETR_EXTERNAL, cv2.CHAIN_APPROX_SIMPLE\n",
    "\t)\n",
    "\tbounding_boxes = []\n",
    "\tcharacters = []\n",
    "\n",
    "\tfor cnt in contours:\n",
    "\t\tx, y, w, h = cv2.boundingRect(cnt)\n",
    "\t\tarea = w * h\n",
    "\t\tif area > min_area:\n",
    "\t\t\troi = binary_image[y : y + h, x : x + w]\n",
    "\t\t\tcharacters.append(roi)\n",
    "\t\t\tbounding_boxes.append((x, y, w, h))\n",
    "\tcharacters = [\n",
    "\t\tchar\n",
    "\t\tfor _, char in sorted(zip(bounding_boxes, characters), key=lambda b: b[0][0])\n",
    "\t]\n",
    "\tbounding_boxes = sorted(bounding_boxes, key=lambda b: b[0])\n",
    "\n",
    "\treturn characters, bounding_boxes\n",
    "\n",
    "\n",
    "def visualize(image, boxes, characters):\n",
    "\tplt.figure(figsize=(15, 10))\n",
    "\n",
    "\tplt.subplot(1, 2, 1)\n",
    "\tplt.title(\"Original Image\")\n",
    "\tplt.imshow(image, cmap=\"gray\")\n",
    "\tplt.axis(\"off\")\n",
    "\n",
    "\tsegmented = image.copy()\n",
    "\tfor x, y, w, h in boxes:\n",
    "\t\tcv2.rectangle(segmented, (x, y), (x + w, y + h), (0, 255, 0), 1)\n",
    "\n",
    "\tplt.subplot(1, 2, 2)\n",
    "\tplt.title(\"Bounding Boxes\")\n",
    "\tplt.imshow(cv2.cvtColor(segmented, cv2.COLOR_BGR2RGB))\n",
    "\tplt.axis(\"off\")\n",
    "\tplt.tight_layout()\n",
    "\n",
    "\n",
    "def segment_characters(image_path, min_area=100):\n",
    "\timage, gray, binary = preprocess_image(image_path)\n",
    "\tcharacters, boxes = extract_characters(binary, min_area)\n",
    "\tvisualize(image.copy(), boxes, characters)"
   ]
  },
  {
   "cell_type": "code",
   "execution_count": 6,
   "id": "47dd2c8c",
   "metadata": {},
   "outputs": [
    {
     "ename": "error",
     "evalue": "OpenCV(4.11.0) /io/opencv/modules/imgproc/src/color.simd_helpers.hpp:92: error: (-15:Bad number of channels) in function 'cv::impl::{anonymous}::CvtHelper<VScn, VDcn, VDepth, sizePolicy>::CvtHelper(cv::InputArray, cv::OutputArray, int) [with VScn = cv::impl::{anonymous}::Set<3, 4>; VDcn = cv::impl::{anonymous}::Set<1>; VDepth = cv::impl::{anonymous}::Set<0, 2, 5>; cv::impl::{anonymous}::SizePolicy sizePolicy = cv::impl::<unnamed>::NONE; cv::InputArray = const cv::_InputArray&; cv::OutputArray = const cv::_OutputArray&]'\n> Invalid number of channels in input image:\n>     'VScn::contains(scn)'\n> where\n>     'scn' is 1\n",
     "output_type": "error",
     "traceback": [
      "\u001b[31m---------------------------------------------------------------------------\u001b[39m",
      "\u001b[31merror\u001b[39m                                     Traceback (most recent call last)",
      "\u001b[36mCell\u001b[39m\u001b[36m \u001b[39m\u001b[32mIn[6]\u001b[39m\u001b[32m, line 1\u001b[39m\n\u001b[32m----> \u001b[39m\u001b[32m1\u001b[39m image, gray, binary = \u001b[43mpreprocess_image\u001b[49m\u001b[43m(\u001b[49m\u001b[33;43m\"\u001b[39;49m\u001b[33;43mstdimgs/characters.png\u001b[39;49m\u001b[33;43m\"\u001b[39;49m\u001b[43m)\u001b[49m\n\u001b[32m      2\u001b[39m characters, boxes = extract_characters(binary, \u001b[32m100\u001b[39m)\n\u001b[32m      3\u001b[39m visualize(image.copy(), boxes, characters)\n",
      "\u001b[36mCell\u001b[39m\u001b[36m \u001b[39m\u001b[32mIn[5]\u001b[39m\u001b[32m, line 3\u001b[39m, in \u001b[36mpreprocess_image\u001b[39m\u001b[34m(image_path)\u001b[39m\n\u001b[32m      1\u001b[39m \u001b[38;5;28;01mdef\u001b[39;00m\u001b[38;5;250m \u001b[39m\u001b[34mpreprocess_image\u001b[39m(image_path):\n\u001b[32m      2\u001b[39m \timg = cv2.imread(image_path, cv2.IMREAD_GRAYSCALE)\n\u001b[32m----> \u001b[39m\u001b[32m3\u001b[39m \tgray = \u001b[43mcv2\u001b[49m\u001b[43m.\u001b[49m\u001b[43mcvtColor\u001b[49m\u001b[43m(\u001b[49m\u001b[43mimg\u001b[49m\u001b[43m,\u001b[49m\u001b[43m \u001b[49m\u001b[43mcv2\u001b[49m\u001b[43m.\u001b[49m\u001b[43mCOLOR_BGR2GRAY\u001b[49m\u001b[43m)\u001b[49m\n\u001b[32m      4\u001b[39m \tbinary = cv2.adaptiveThreshold(\n\u001b[32m      5\u001b[39m \t\tgray, \u001b[32m255\u001b[39m, cv2.ADAPTIVE_THRESH_GAUSSIAN_C, cv2.THRESH_BINARY_INV, \u001b[32m15\u001b[39m, \u001b[32m10\u001b[39m\n\u001b[32m      6\u001b[39m \t)\n\u001b[32m      7\u001b[39m \tkernel = np.ones((\u001b[32m3\u001b[39m, \u001b[32m3\u001b[39m), np.uint8)\n",
      "\u001b[31merror\u001b[39m: OpenCV(4.11.0) /io/opencv/modules/imgproc/src/color.simd_helpers.hpp:92: error: (-15:Bad number of channels) in function 'cv::impl::{anonymous}::CvtHelper<VScn, VDcn, VDepth, sizePolicy>::CvtHelper(cv::InputArray, cv::OutputArray, int) [with VScn = cv::impl::{anonymous}::Set<3, 4>; VDcn = cv::impl::{anonymous}::Set<1>; VDepth = cv::impl::{anonymous}::Set<0, 2, 5>; cv::impl::{anonymous}::SizePolicy sizePolicy = cv::impl::<unnamed>::NONE; cv::InputArray = const cv::_InputArray&; cv::OutputArray = const cv::_OutputArray&]'\n> Invalid number of channels in input image:\n>     'VScn::contains(scn)'\n> where\n>     'scn' is 1\n"
     ]
    }
   ],
   "source": [
    "image, gray, binary = preprocess_image(\"stdimgs/characters.png\")\n",
    "characters, boxes = extract_characters(binary, 100)\n",
    "visualize(image.copy(), boxes, characters)"
   ]
  }
 ],
 "metadata": {
  "kernelspec": {
   "display_name": ".venv",
   "language": "python",
   "name": "python3"
  },
  "language_info": {
   "codemirror_mode": {
    "name": "ipython",
    "version": 3
   },
   "file_extension": ".py",
   "mimetype": "text/x-python",
   "name": "python",
   "nbconvert_exporter": "python",
   "pygments_lexer": "ipython3",
   "version": "3.13.3"
  }
 },
 "nbformat": 4,
 "nbformat_minor": 5
}
