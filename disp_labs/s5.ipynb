{
 "cells": [
  {
   "cell_type": "code",
   "execution_count": 2,
   "id": "e52a978f",
   "metadata": {},
   "outputs": [
    {
     "ename": "FileNotFoundError",
     "evalue": "[Errno 2] No such file or directory: 'enroll'",
     "output_type": "error",
     "traceback": [
      "\u001b[31m---------------------------------------------------------------------------\u001b[39m",
      "\u001b[31mFileNotFoundError\u001b[39m                         Traceback (most recent call last)",
      "\u001b[36mCell\u001b[39m\u001b[36m \u001b[39m\u001b[32mIn[2]\u001b[39m\u001b[32m, line 58\u001b[39m\n\u001b[32m     55\u001b[39m enroll_dir = \u001b[33m\"\u001b[39m\u001b[33menroll\u001b[39m\u001b[33m\"\u001b[39m\n\u001b[32m     56\u001b[39m test_file = \u001b[33m\"\u001b[39m\u001b[33mtest.wav\u001b[39m\u001b[33m\"\u001b[39m\n\u001b[32m---> \u001b[39m\u001b[32m58\u001b[39m speaker_profiles = \u001b[43menroll_speakers\u001b[49m\u001b[43m(\u001b[49m\u001b[43menroll_dir\u001b[49m\u001b[43m)\u001b[49m\n\u001b[32m     59\u001b[39m predicted_speaker, score = identify_speaker(test_file, speaker_profiles)\n\u001b[32m     61\u001b[39m \u001b[38;5;28mprint\u001b[39m(\u001b[33mf\u001b[39m\u001b[33m\"\u001b[39m\u001b[33mIdentified speaker: \u001b[39m\u001b[38;5;132;01m{\u001b[39;00mpredicted_speaker\u001b[38;5;132;01m}\u001b[39;00m\u001b[33m (cosine similarity: \u001b[39m\u001b[38;5;132;01m{\u001b[39;00mscore\u001b[38;5;132;01m:\u001b[39;00m\u001b[33m.4f\u001b[39m\u001b[38;5;132;01m}\u001b[39;00m\u001b[33m)\u001b[39m\u001b[33m\"\u001b[39m)\n",
      "\u001b[36mCell\u001b[39m\u001b[36m \u001b[39m\u001b[32mIn[2]\u001b[39m\u001b[32m, line 18\u001b[39m, in \u001b[36menroll_speakers\u001b[39m\u001b[34m(enroll_dir)\u001b[39m\n\u001b[32m     16\u001b[39m \u001b[38;5;250m\u001b[39m\u001b[33;03m\"\"\"Enroll each speaker from their audio files.\"\"\"\u001b[39;00m\n\u001b[32m     17\u001b[39m speaker_profiles = {}\n\u001b[32m---> \u001b[39m\u001b[32m18\u001b[39m \u001b[38;5;28;01mfor\u001b[39;00m speaker_name \u001b[38;5;129;01min\u001b[39;00m \u001b[43mos\u001b[49m\u001b[43m.\u001b[49m\u001b[43mlistdir\u001b[49m\u001b[43m(\u001b[49m\u001b[43menroll_dir\u001b[49m\u001b[43m)\u001b[49m:\n\u001b[32m     19\u001b[39m     speaker_path = os.path.join(enroll_dir, speaker_name)\n\u001b[32m     20\u001b[39m     \u001b[38;5;28;01mif\u001b[39;00m os.path.isdir(speaker_path):\n",
      "\u001b[31mFileNotFoundError\u001b[39m: [Errno 2] No such file or directory: 'enroll'"
     ]
    }
   ],
   "source": [
    "import os\n",
    "import librosa\n",
    "import numpy as np\n",
    "from sklearn.metrics.pairwise import cosine_similarity\n",
    "\n",
    "\n",
    "def extract_mfcc(file_path, n_mfcc=13):\n",
    "    \"\"\"Extract MFCCs from an audio file.\"\"\"\n",
    "    y, sr = librosa.load(file_path, sr=None)\n",
    "    mfcc = librosa.feature.mfcc(y=y, sr=sr, n_mfcc=n_mfcc)\n",
    "    mfcc_mean = np.mean(mfcc, axis=1)  # Use mean vector for comparison\n",
    "    return mfcc_mean\n",
    "\n",
    "\n",
    "def enroll_speakers(enroll_dir):\n",
    "    \"\"\"Enroll each speaker from their audio files.\"\"\"\n",
    "    speaker_profiles = {}\n",
    "    for speaker_name in os.listdir(enroll_dir):\n",
    "        speaker_path = os.path.join(enroll_dir, speaker_name)\n",
    "        if os.path.isdir(speaker_path):\n",
    "            mfccs = []\n",
    "            for file in os.listdir(speaker_path):\n",
    "                if file.endswith(\".wav\"):\n",
    "                    path = os.path.join(speaker_path, file)\n",
    "                    mfcc = extract_mfcc(path)\n",
    "                    mfccs.append(mfcc)\n",
    "            speaker_profiles[speaker_name] = np.mean(mfccs, axis=0)\n",
    "    return speaker_profiles\n",
    "\n",
    "\n",
    "def identify_speaker(test_file, speaker_profiles):\n",
    "    \"\"\"Identify speaker by comparing test audio with enrolled profiles.\"\"\"\n",
    "    test_mfcc = extract_mfcc(test_file)\n",
    "    similarities = {}\n",
    "    for speaker, profile_mfcc in speaker_profiles.items():\n",
    "        similarity = cosine_similarity([test_mfcc], [profile_mfcc])[0][0]\n",
    "        similarities[speaker] = similarity\n",
    "    best_match = max(similarities, key=similarities.get)\n",
    "    return best_match, similarities[best_match]\n",
    "\n",
    "\n",
    "# Example Usage\n",
    "\n",
    "# 1. Folder structure for enrollment:\n",
    "# enroll/\n",
    "# ├── alice/\n",
    "# │   ├── 1.wav\n",
    "# │   └── 2.wav\n",
    "# ├── bob/\n",
    "# │   ├── 1.wav\n",
    "# │   └── 2.wav\n",
    "\n",
    "# 2. Test file: test.wav\n",
    "\n",
    "enroll_dir = \"enroll\"\n",
    "test_file = \"test.wav\"\n",
    "\n",
    "speaker_profiles = enroll_speakers(enroll_dir)\n",
    "predicted_speaker, score = identify_speaker(test_file, speaker_profiles)\n",
    "\n",
    "print(f\"Identified speaker: {predicted_speaker} (cosine similarity: {score:.4f})\")"
   ]
  }
 ],
 "metadata": {
  "kernelspec": {
   "display_name": ".venv",
   "language": "python",
   "name": "python3"
  },
  "language_info": {
   "codemirror_mode": {
    "name": "ipython",
    "version": 3
   },
   "file_extension": ".py",
   "mimetype": "text/x-python",
   "name": "python",
   "nbconvert_exporter": "python",
   "pygments_lexer": "ipython3",
   "version": "3.13.3"
  }
 },
 "nbformat": 4,
 "nbformat_minor": 5
}
