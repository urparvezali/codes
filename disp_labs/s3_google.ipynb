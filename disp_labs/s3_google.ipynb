{
 "cells": [
  {
   "cell_type": "code",
   "execution_count": null,
   "id": "5dcdfc25",
   "metadata": {},
   "outputs": [],
   "source": [
    "import speech_recognition as sr\n",
    "\n",
    "recognizer = sr.Recognizer()\n",
    "microphone = sr.Microphone()\n",
    "\n",
    "print(\"Calibrating microphone...\")\n",
    "with microphone as source:\n",
    "    recognizer.adjust_for_ambient_noise(source, duration=1)\n",
    "recognizer.dynamic_energy_threshold = True\n",
    "recognizer.pause_threshold = 0.8\n",
    "\n",
    "print(\"Speak now...\")\n",
    "while True:\n",
    "    try:\n",
    "        with microphone as source:\n",
    "            print(\"\\nListening...\")\n",
    "            audio = recognizer.listen(source, timeout=5, phrase_time_limit=5)\n",
    "\n",
    "        print(\"Processing...\")\n",
    "        try:\n",
    "            text = recognizer.recognize_google(audio)\n",
    "            print(f\"\\n>> {text}\")\n",
    "        except sr.UnknownValueError:\n",
    "            print(\"(Could not understand audio)\")\n",
    "        except sr.RequestError:\n",
    "            print(\"(API unavailable)\")\n",
    "\n",
    "    except KeyboardInterrupt:\n",
    "        print(\"\\nStopped listening\")\n",
    "        break\n",
    "    except sr.WaitTimeoutError:\n",
    "        print(\"(Waiting for speech...)\")\n",
    "        continue"
   ]
  }
 ],
 "metadata": {
  "language_info": {
   "name": "python"
  }
 },
 "nbformat": 4,
 "nbformat_minor": 5
}
